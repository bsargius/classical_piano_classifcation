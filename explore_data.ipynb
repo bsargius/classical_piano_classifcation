{
 "cells": [
  {
   "cell_type": "markdown",
   "id": "1cb9c9e9-8922-4c91-afbf-6c896e10f729",
   "metadata": {},
   "source": [
    "# Import Dependencies"
   ]
  },
  {
   "cell_type": "code",
   "execution_count": 2,
   "id": "14b0f0bc-c3d7-473a-8ef7-7ef7401ac9b7",
   "metadata": {},
   "outputs": [],
   "source": [
    "import numpy as np\n",
    "import pandas as pd\n",
    "import seaborn as sns"
   ]
  },
  {
   "cell_type": "markdown",
   "id": "8d5d412d-aeb8-4b68-9729-7950b34013a9",
   "metadata": {},
   "source": [
    "# Analysis of Data"
   ]
  },
  {
   "cell_type": "code",
   "execution_count": 3,
   "id": "130e0a8a-bbcb-45cb-9c3d-561f548f0f69",
   "metadata": {},
   "outputs": [
    {
     "data": {
      "text/html": [
       "<div>\n",
       "<style scoped>\n",
       "    .dataframe tbody tr th:only-of-type {\n",
       "        vertical-align: middle;\n",
       "    }\n",
       "\n",
       "    .dataframe tbody tr th {\n",
       "        vertical-align: top;\n",
       "    }\n",
       "\n",
       "    .dataframe thead th {\n",
       "        text-align: right;\n",
       "    }\n",
       "</style>\n",
       "<table border=\"1\" class=\"dataframe\">\n",
       "  <thead>\n",
       "    <tr style=\"text-align: right;\">\n",
       "      <th></th>\n",
       "      <th>canonical_title</th>\n",
       "      <th>split</th>\n",
       "      <th>year</th>\n",
       "      <th>midi_filename</th>\n",
       "      <th>audio_filename</th>\n",
       "      <th>duration</th>\n",
       "    </tr>\n",
       "    <tr>\n",
       "      <th>canonical_composer</th>\n",
       "      <th></th>\n",
       "      <th></th>\n",
       "      <th></th>\n",
       "      <th></th>\n",
       "      <th></th>\n",
       "      <th></th>\n",
       "    </tr>\n",
       "  </thead>\n",
       "  <tbody>\n",
       "    <tr>\n",
       "      <th>Alban Berg</th>\n",
       "      <td>Sonata Op. 1</td>\n",
       "      <td>train</td>\n",
       "      <td>2018</td>\n",
       "      <td>2018/MIDI-Unprocessed_Chamber3_MID--AUDIO_10_R...</td>\n",
       "      <td>2018/MIDI-Unprocessed_Chamber3_MID--AUDIO_10_R...</td>\n",
       "      <td>698.661160</td>\n",
       "    </tr>\n",
       "    <tr>\n",
       "      <th>Alban Berg</th>\n",
       "      <td>Sonata Op. 1</td>\n",
       "      <td>train</td>\n",
       "      <td>2008</td>\n",
       "      <td>2008/MIDI-Unprocessed_03_R2_2008_01-03_ORIG_MI...</td>\n",
       "      <td>2008/MIDI-Unprocessed_03_R2_2008_01-03_ORIG_MI...</td>\n",
       "      <td>759.518471</td>\n",
       "    </tr>\n",
       "    <tr>\n",
       "      <th>Alban Berg</th>\n",
       "      <td>Sonata Op. 1</td>\n",
       "      <td>train</td>\n",
       "      <td>2017</td>\n",
       "      <td>2017/MIDI-Unprocessed_066_PIANO066_MID--AUDIO-...</td>\n",
       "      <td>2017/MIDI-Unprocessed_066_PIANO066_MID--AUDIO-...</td>\n",
       "      <td>464.649433</td>\n",
       "    </tr>\n",
       "    <tr>\n",
       "      <th>Alexander Scriabin</th>\n",
       "      <td>24 Preludes Op. 11, No. 13-24</td>\n",
       "      <td>train</td>\n",
       "      <td>2004</td>\n",
       "      <td>2004/MIDI-Unprocessed_XP_21_R1_2004_01_ORIG_MI...</td>\n",
       "      <td>2004/MIDI-Unprocessed_XP_21_R1_2004_01_ORIG_MI...</td>\n",
       "      <td>872.640588</td>\n",
       "    </tr>\n",
       "    <tr>\n",
       "      <th>Alexander Scriabin</th>\n",
       "      <td>3 Etudes, Op. 65</td>\n",
       "      <td>validation</td>\n",
       "      <td>2006</td>\n",
       "      <td>2006/MIDI-Unprocessed_17_R1_2006_01-06_ORIG_MI...</td>\n",
       "      <td>2006/MIDI-Unprocessed_17_R1_2006_01-06_ORIG_MI...</td>\n",
       "      <td>397.857508</td>\n",
       "    </tr>\n",
       "    <tr>\n",
       "      <th>...</th>\n",
       "      <td>...</td>\n",
       "      <td>...</td>\n",
       "      <td>...</td>\n",
       "      <td>...</td>\n",
       "      <td>...</td>\n",
       "      <td>...</td>\n",
       "    </tr>\n",
       "    <tr>\n",
       "      <th>Wolfgang Amadeus Mozart</th>\n",
       "      <td>Sonata in F Major, K280</td>\n",
       "      <td>test</td>\n",
       "      <td>2004</td>\n",
       "      <td>2004/MIDI-Unprocessed_XP_14_R1_2004_04_ORIG_MI...</td>\n",
       "      <td>2004/MIDI-Unprocessed_XP_14_R1_2004_04_ORIG_MI...</td>\n",
       "      <td>241.470442</td>\n",
       "    </tr>\n",
       "    <tr>\n",
       "      <th>Wolfgang Amadeus Mozart</th>\n",
       "      <td>Sonata in F Major, K280</td>\n",
       "      <td>train</td>\n",
       "      <td>2004</td>\n",
       "      <td>2004/MIDI-Unprocessed_XP_14_R1_2004_04_ORIG_MI...</td>\n",
       "      <td>2004/MIDI-Unprocessed_XP_14_R1_2004_04_ORIG_MI...</td>\n",
       "      <td>114.696243</td>\n",
       "    </tr>\n",
       "    <tr>\n",
       "      <th>Wolfgang Amadeus Mozart</th>\n",
       "      <td>Sonata in F Major, K533</td>\n",
       "      <td>validation</td>\n",
       "      <td>2004</td>\n",
       "      <td>2004/MIDI-Unprocessed_SMF_12_01_2004_01-05_ORI...</td>\n",
       "      <td>2004/MIDI-Unprocessed_SMF_12_01_2004_01-05_ORI...</td>\n",
       "      <td>1139.198478</td>\n",
       "    </tr>\n",
       "    <tr>\n",
       "      <th>Wolfgang Amadeus Mozart</th>\n",
       "      <td>Sonata in F Major, K533/K494</td>\n",
       "      <td>validation</td>\n",
       "      <td>2018</td>\n",
       "      <td>2018/MIDI-Unprocessed_Recital17-19_MID--AUDIO_...</td>\n",
       "      <td>2018/MIDI-Unprocessed_Recital17-19_MID--AUDIO_...</td>\n",
       "      <td>1068.751602</td>\n",
       "    </tr>\n",
       "    <tr>\n",
       "      <th>Wolfgang Amadeus Mozart</th>\n",
       "      <td>Twelve Variations, K179 (189a)</td>\n",
       "      <td>train</td>\n",
       "      <td>2004</td>\n",
       "      <td>2004/MIDI-Unprocessed_XP_04_R1_2004_01-02_ORIG...</td>\n",
       "      <td>2004/MIDI-Unprocessed_XP_04_R1_2004_01-02_ORIG...</td>\n",
       "      <td>630.266303</td>\n",
       "    </tr>\n",
       "  </tbody>\n",
       "</table>\n",
       "<p>1276 rows × 6 columns</p>\n",
       "</div>"
      ],
      "text/plain": [
       "                                        canonical_title       split  year  \\\n",
       "canonical_composer                                                          \n",
       "Alban Berg                                 Sonata Op. 1       train  2018   \n",
       "Alban Berg                                 Sonata Op. 1       train  2008   \n",
       "Alban Berg                                 Sonata Op. 1       train  2017   \n",
       "Alexander Scriabin        24 Preludes Op. 11, No. 13-24       train  2004   \n",
       "Alexander Scriabin                     3 Etudes, Op. 65  validation  2006   \n",
       "...                                                 ...         ...   ...   \n",
       "Wolfgang Amadeus Mozart         Sonata in F Major, K280        test  2004   \n",
       "Wolfgang Amadeus Mozart         Sonata in F Major, K280       train  2004   \n",
       "Wolfgang Amadeus Mozart         Sonata in F Major, K533  validation  2004   \n",
       "Wolfgang Amadeus Mozart    Sonata in F Major, K533/K494  validation  2018   \n",
       "Wolfgang Amadeus Mozart  Twelve Variations, K179 (189a)       train  2004   \n",
       "\n",
       "                                                             midi_filename  \\\n",
       "canonical_composer                                                           \n",
       "Alban Berg               2018/MIDI-Unprocessed_Chamber3_MID--AUDIO_10_R...   \n",
       "Alban Berg               2008/MIDI-Unprocessed_03_R2_2008_01-03_ORIG_MI...   \n",
       "Alban Berg               2017/MIDI-Unprocessed_066_PIANO066_MID--AUDIO-...   \n",
       "Alexander Scriabin       2004/MIDI-Unprocessed_XP_21_R1_2004_01_ORIG_MI...   \n",
       "Alexander Scriabin       2006/MIDI-Unprocessed_17_R1_2006_01-06_ORIG_MI...   \n",
       "...                                                                    ...   \n",
       "Wolfgang Amadeus Mozart  2004/MIDI-Unprocessed_XP_14_R1_2004_04_ORIG_MI...   \n",
       "Wolfgang Amadeus Mozart  2004/MIDI-Unprocessed_XP_14_R1_2004_04_ORIG_MI...   \n",
       "Wolfgang Amadeus Mozart  2004/MIDI-Unprocessed_SMF_12_01_2004_01-05_ORI...   \n",
       "Wolfgang Amadeus Mozart  2018/MIDI-Unprocessed_Recital17-19_MID--AUDIO_...   \n",
       "Wolfgang Amadeus Mozart  2004/MIDI-Unprocessed_XP_04_R1_2004_01-02_ORIG...   \n",
       "\n",
       "                                                            audio_filename  \\\n",
       "canonical_composer                                                           \n",
       "Alban Berg               2018/MIDI-Unprocessed_Chamber3_MID--AUDIO_10_R...   \n",
       "Alban Berg               2008/MIDI-Unprocessed_03_R2_2008_01-03_ORIG_MI...   \n",
       "Alban Berg               2017/MIDI-Unprocessed_066_PIANO066_MID--AUDIO-...   \n",
       "Alexander Scriabin       2004/MIDI-Unprocessed_XP_21_R1_2004_01_ORIG_MI...   \n",
       "Alexander Scriabin       2006/MIDI-Unprocessed_17_R1_2006_01-06_ORIG_MI...   \n",
       "...                                                                    ...   \n",
       "Wolfgang Amadeus Mozart  2004/MIDI-Unprocessed_XP_14_R1_2004_04_ORIG_MI...   \n",
       "Wolfgang Amadeus Mozart  2004/MIDI-Unprocessed_XP_14_R1_2004_04_ORIG_MI...   \n",
       "Wolfgang Amadeus Mozart  2004/MIDI-Unprocessed_SMF_12_01_2004_01-05_ORI...   \n",
       "Wolfgang Amadeus Mozart  2018/MIDI-Unprocessed_Recital17-19_MID--AUDIO_...   \n",
       "Wolfgang Amadeus Mozart  2004/MIDI-Unprocessed_XP_04_R1_2004_01-02_ORIG...   \n",
       "\n",
       "                            duration  \n",
       "canonical_composer                    \n",
       "Alban Berg                698.661160  \n",
       "Alban Berg                759.518471  \n",
       "Alban Berg                464.649433  \n",
       "Alexander Scriabin        872.640588  \n",
       "Alexander Scriabin        397.857508  \n",
       "...                              ...  \n",
       "Wolfgang Amadeus Mozart   241.470442  \n",
       "Wolfgang Amadeus Mozart   114.696243  \n",
       "Wolfgang Amadeus Mozart  1139.198478  \n",
       "Wolfgang Amadeus Mozart  1068.751602  \n",
       "Wolfgang Amadeus Mozart   630.266303  \n",
       "\n",
       "[1276 rows x 6 columns]"
      ]
     },
     "execution_count": 3,
     "metadata": {},
     "output_type": "execute_result"
    }
   ],
   "source": [
    "meta_data_df = pd.read_csv(\"data/maestro-v3.0.0.csv\")\n",
    "meta_data_df = meta_data_df.set_index(\"canonical_composer\")\n",
    "meta_data_df"
   ]
  },
  {
   "cell_type": "code",
   "execution_count": 4,
   "id": "3ae27706-a596-4344-a942-27c9398eac51",
   "metadata": {},
   "outputs": [
    {
     "data": {
      "text/plain": [
       "canonical_composer\n",
       "Alban Berg                                              3\n",
       "Alexander Scriabin                                     35\n",
       "Antonio Soler                                           1\n",
       "Carl Maria von Weber                                    1\n",
       "Charles Gounod / Franz Liszt                            1\n",
       "Claude Debussy                                         45\n",
       "César Franck                                            5\n",
       "Domenico Scarlatti                                     31\n",
       "Edvard Grieg                                            3\n",
       "Felix Mendelssohn                                      28\n",
       "Felix Mendelssohn / Sergei Rachmaninoff                 3\n",
       "Franz Liszt                                           131\n",
       "Franz Liszt / Camille Saint-Saëns                       1\n",
       "Franz Liszt / Vladimir Horowitz                         2\n",
       "Franz Schubert                                        186\n",
       "Franz Schubert / Franz Liszt                           10\n",
       "Franz Schubert / Leopold Godowsky                       1\n",
       "Fritz Kreisler / Sergei Rachmaninoff                    1\n",
       "Frédéric Chopin                                       201\n",
       "George Enescu                                           1\n",
       "George Frideric Handel                                  5\n",
       "Georges Bizet / Ferruccio Busoni                        1\n",
       "Georges Bizet / Moritz Moszkowski                       1\n",
       "Georges Bizet / Vladimir Horowitz                       1\n",
       "Giuseppe Verdi / Franz Liszt                            1\n",
       "Henry Purcell                                           1\n",
       "Isaac Albéniz                                           7\n",
       "Isaac Albéniz / Leopold Godowsky                        1\n",
       "Jean-Philippe Rameau                                    1\n",
       "Johann Christian Fischer / Wolfgang Amadeus Mozart      1\n",
       "Johann Pachelbel                                        1\n",
       "Johann Sebastian Bach                                 145\n",
       "Johann Sebastian Bach / Egon Petri                      2\n",
       "Johann Sebastian Bach / Ferruccio Busoni                5\n",
       "Johann Sebastian Bach / Franz Liszt                     3\n",
       "Johann Sebastian Bach / Myra Hess                       1\n",
       "Johann Strauss / Alfred Grünfeld                        1\n",
       "Johannes Brahms                                        26\n",
       "Joseph Haydn                                           40\n",
       "Leoš Janáček                                            4\n",
       "Ludwig van Beethoven                                  146\n",
       "Mikhail Glinka / Mily Balakirev                         2\n",
       "Mily Balakirev                                          4\n",
       "Modest Mussorgsky                                       6\n",
       "Muzio Clementi                                          6\n",
       "Niccolò Paganini / Franz Liszt                          1\n",
       "Nikolai Medtner                                         5\n",
       "Nikolai Rimsky-Korsakov / Sergei Rachmaninoff           1\n",
       "Orlando Gibbons                                         1\n",
       "Percy Grainger                                          1\n",
       "Pyotr Ilyich Tchaikovsky                                6\n",
       "Pyotr Ilyich Tchaikovsky / Mikhail Pletnev              6\n",
       "Pyotr Ilyich Tchaikovsky / Sergei Rachmaninoff          2\n",
       "Richard Wagner / Franz Liszt                            2\n",
       "Robert Schumann                                        49\n",
       "Robert Schumann / Franz Liszt                           1\n",
       "Sergei Rachmaninoff                                    59\n",
       "Sergei Rachmaninoff / György Cziffra                    1\n",
       "Sergei Rachmaninoff / Vyacheslav Gryaznov               1\n",
       "Wolfgang Amadeus Mozart                                38\n",
       "dtype: int64"
      ]
     },
     "execution_count": 4,
     "metadata": {},
     "output_type": "execute_result"
    }
   ],
   "source": [
    "meta_data_df.groupby(\"canonical_composer\").size()"
   ]
  },
  {
   "cell_type": "code",
   "execution_count": 5,
   "id": "fda74884-348e-462d-a718-2316434b6538",
   "metadata": {},
   "outputs": [
    {
     "data": {
      "text/plain": [
       "<seaborn.axisgrid.FacetGrid at 0x1347c198130>"
      ]
     },
     "execution_count": 5,
     "metadata": {},
     "output_type": "execute_result"
    },
    {
     "data": {
      "image/png": "[encoded data removed]",
      "text/plain": [
       "<Figure size 360x360 with 1 Axes>"
      ]
     },
     "metadata": {
      "needs_background": "light"
     },
     "output_type": "display_data"
    }
   ],
   "source": [
    "sns.displot(meta_data_df.groupby(\"canonical_composer\").size())"
   ]
  },
  {
   "cell_type": "code",
   "execution_count": 6,
   "id": "bf0f2c02-2a88-41f3-9072-a9990b38d860",
   "metadata": {
    "tags": []
   },
   "outputs": [
    {
     "data": {
      "text/plain": [
       "canonical_title\n",
       "\"Der Mueller und der Bach\"                                           1\n",
       "\"Erlkoenig\"                                                          1\n",
       "\"Feux d'artifice\" from Book II                                       1\n",
       "\"Gretchen am Spinnrade\"                                              1\n",
       "\"Images\", Series I                                                   1\n",
       "                                                                    ..\n",
       "Widmung                                                              1\n",
       "Études d'exécution transcendante, No. 10 in F Minor, S.139/10        1\n",
       "Études d'exécution transcendante, No. 12, \"Chasse-Neige\" S.139/12    1\n",
       "Études d'exécution transcendante, No. 4, \"Mazeppa\" S.139/4           2\n",
       "Études d'exécution transcendante, No. 5, \"Feux follets\" S.139/5      1\n",
       "Length: 854, dtype: int64"
      ]
     },
     "execution_count": 6,
     "metadata": {},
     "output_type": "execute_result"
    }
   ],
   "source": [
    "meta_data_df.groupby(\"canonical_title\").size()"
   ]
  },
  {
   "cell_type": "code",
   "execution_count": 7,
   "id": "b49e724f-4be2-402e-a594-8c412dba01e8",
   "metadata": {},
   "outputs": [
    {
     "name": "stderr",
     "output_type": "stream",
     "text": [
      "C:\\Users\\bisho\\anaconda3\\lib\\site-packages\\seaborn\\distributions.py:2619: FutureWarning: `distplot` is a deprecated function and will be removed in a future version. Please adapt your code to use either `displot` (a figure-level function with similar flexibility) or `histplot` (an axes-level function for histograms).\n",
      "  warnings.warn(msg, FutureWarning)\n"
     ]
    },
    {
     "data": {
      "text/plain": [
       "<AxesSubplot:ylabel='Density'>"
      ]
     },
     "execution_count": 7,
     "metadata": {},
     "output_type": "execute_result"
    },
    {
     "data": {
      "image/png": "[encoded data removed]",
      "text/plain": [
       "<Figure size 432x288 with 1 Axes>"
      ]
     },
     "metadata": {
      "needs_background": "light"
     },
     "output_type": "display_data"
    }
   ],
   "source": [
    "sns.distplot(meta_data_df.groupby(\"canonical_title\").size())"
   ]
  },
  {
   "cell_type": "code",
   "execution_count": null,
   "id": "18927250-9b25-4ad9-ac1a-b4ae17e7b12b",
   "metadata": {},
   "outputs": [],
   "source": []
  }
 ],
 "metadata": {
  "kernelspec": {
   "display_name": "Python 3 (ipykernel)",
   "language": "python",
   "name": "python3"
  },
  "language_info": {
   "codemirror_mode": {
    "name": "ipython",
    "version": 3
   },
   "file_extension": ".py",
   "mimetype": "text/x-python",
   "name": "python",
   "nbconvert_exporter": "python",
   "pygments_lexer": "ipython3",
   "version": "3.9.7"
  }
 },
 "nbformat": 4,
 "nbformat_minor": 5
}
