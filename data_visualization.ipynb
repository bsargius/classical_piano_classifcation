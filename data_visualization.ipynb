{
  "nbformat": 4,
  "nbformat_minor": 0,
  "metadata": {
    "colab": {
      "provenance": [],
      "authorship_tag": "ABX9TyOhCC0oOQBulufDVvAWnZl6",
      "include_colab_link": true
    },
    "kernelspec": {
      "name": "python3",
      "display_name": "Python 3"
    },
    "language_info": {
      "name": "python"
    }
  },
  "cells": [
    {
      "cell_type": "markdown",
      "metadata": {
        "id": "view-in-github",
        "colab_type": "text"
      },
      "source": [
        "<a href=\"https://colab.research.google.com/github/bsargius/classical_piano_classifcation/blob/main/data_visualization.ipynb\" target=\"_parent\"><img src=\"https://colab.research.google.com/assets/colab-badge.svg\" alt=\"Open In Colab\"/></a>"
      ]
    },
    {
      "cell_type": "markdown",
      "source": [
        "https://research.google/resources/datasets/maestro/ <br>\n",
        "https://magenta.tensorflow.org/datasets/maestro <br>\n",
        "https://arxiv.org/pdf/1810.12247.pdf <br>\n",
        "https://medium.com/@dhruvverma/music-transcription-using-a-convolutional-neural-network-b115968829f4 <br>\n"
      ],
      "metadata": {
        "id": "oFj8dECL8qSX"
      }
    },
    {
      "cell_type": "code",
      "source": [
        "import numpy as np\n",
        "import pandas as pd\n",
        "import seaborn as sns"
      ],
      "metadata": {
        "id": "sxODjxpZdzbE"
      },
      "execution_count": 19,
      "outputs": []
    },
    {
      "cell_type": "code",
      "source": [
        "meta_data_path = \"https://raw.githubusercontent.com/bsargius/classical_piano_classifcation/main/data/maestro-v3.0.0-midi/maestro-v3.0.0/maestro-v3.0.0.csv\"\n",
        "meta_data_df = pd.read_csv(meta_data_path)\n",
        "meta_data_df"
      ],
      "metadata": {
        "colab": {
          "base_uri": "https://localhost:8080/",
          "height": 661
        },
        "id": "HP2dtVfV8uqg",
        "outputId": "7c44f88d-86fc-484a-d8fa-4391e85289a3"
      },
      "execution_count": 20,
      "outputs": [
        {
          "output_type": "execute_result",
          "data": {
            "text/plain": [
              "           canonical_composer                 canonical_title       split  \\\n",
              "0                  Alban Berg                    Sonata Op. 1       train   \n",
              "1                  Alban Berg                    Sonata Op. 1       train   \n",
              "2                  Alban Berg                    Sonata Op. 1       train   \n",
              "3          Alexander Scriabin   24 Preludes Op. 11, No. 13-24       train   \n",
              "4          Alexander Scriabin                3 Etudes, Op. 65  validation   \n",
              "...                       ...                             ...         ...   \n",
              "1271  Wolfgang Amadeus Mozart         Sonata in F Major, K280        test   \n",
              "1272  Wolfgang Amadeus Mozart         Sonata in F Major, K280       train   \n",
              "1273  Wolfgang Amadeus Mozart         Sonata in F Major, K533  validation   \n",
              "1274  Wolfgang Amadeus Mozart    Sonata in F Major, K533/K494  validation   \n",
              "1275  Wolfgang Amadeus Mozart  Twelve Variations, K179 (189a)       train   \n",
              "\n",
              "      year                                      midi_filename  \\\n",
              "0     2018  2018/MIDI-Unprocessed_Chamber3_MID--AUDIO_10_R...   \n",
              "1     2008  2008/MIDI-Unprocessed_03_R2_2008_01-03_ORIG_MI...   \n",
              "2     2017  2017/MIDI-Unprocessed_066_PIANO066_MID--AUDIO-...   \n",
              "3     2004  2004/MIDI-Unprocessed_XP_21_R1_2004_01_ORIG_MI...   \n",
              "4     2006  2006/MIDI-Unprocessed_17_R1_2006_01-06_ORIG_MI...   \n",
              "...    ...                                                ...   \n",
              "1271  2004  2004/MIDI-Unprocessed_XP_14_R1_2004_04_ORIG_MI...   \n",
              "1272  2004  2004/MIDI-Unprocessed_XP_14_R1_2004_04_ORIG_MI...   \n",
              "1273  2004  2004/MIDI-Unprocessed_SMF_12_01_2004_01-05_ORI...   \n",
              "1274  2018  2018/MIDI-Unprocessed_Recital17-19_MID--AUDIO_...   \n",
              "1275  2004  2004/MIDI-Unprocessed_XP_04_R1_2004_01-02_ORIG...   \n",
              "\n",
              "                                         audio_filename     duration  \n",
              "0     2018/MIDI-Unprocessed_Chamber3_MID--AUDIO_10_R...   698.661160  \n",
              "1     2008/MIDI-Unprocessed_03_R2_2008_01-03_ORIG_MI...   759.518471  \n",
              "2     2017/MIDI-Unprocessed_066_PIANO066_MID--AUDIO-...   464.649433  \n",
              "3     2004/MIDI-Unprocessed_XP_21_R1_2004_01_ORIG_MI...   872.640588  \n",
              "4     2006/MIDI-Unprocessed_17_R1_2006_01-06_ORIG_MI...   397.857508  \n",
              "...                                                 ...          ...  \n",
              "1271  2004/MIDI-Unprocessed_XP_14_R1_2004_04_ORIG_MI...   241.470442  \n",
              "1272  2004/MIDI-Unprocessed_XP_14_R1_2004_04_ORIG_MI...   114.696243  \n",
              "1273  2004/MIDI-Unprocessed_SMF_12_01_2004_01-05_ORI...  1139.198478  \n",
              "1274  2018/MIDI-Unprocessed_Recital17-19_MID--AUDIO_...  1068.751602  \n",
              "1275  2004/MIDI-Unprocessed_XP_04_R1_2004_01-02_ORIG...   630.266303  \n",
              "\n",
              "[1276 rows x 7 columns]"
            ],
            "text/html": [
              "\n",
              "  <div id=\"df-475dcfd8-fb10-47b8-aeb4-5d4cfd0599f9\">\n",
              "    <div class=\"colab-df-container\">\n",
              "      <div>\n",
              "<style scoped>\n",
              "    .dataframe tbody tr th:only-of-type {\n",
              "        vertical-align: middle;\n",
              "    }\n",
              "\n",
              "    .dataframe tbody tr th {\n",
              "        vertical-align: top;\n",
              "    }\n",
              "\n",
              "    .dataframe thead th {\n",
              "        text-align: right;\n",
              "    }\n",
              "</style>\n",
              "<table border=\"1\" class=\"dataframe\">\n",
              "  <thead>\n",
              "    <tr style=\"text-align: right;\">\n",
              "      <th></th>\n",
              "      <th>canonical_composer</th>\n",
              "      <th>canonical_title</th>\n",
              "      <th>split</th>\n",
              "      <th>year</th>\n",
              "      <th>midi_filename</th>\n",
              "      <th>audio_filename</th>\n",
              "      <th>duration</th>\n",
              "    </tr>\n",
              "  </thead>\n",
              "  <tbody>\n",
              "    <tr>\n",
              "      <th>0</th>\n",
              "      <td>Alban Berg</td>\n",
              "      <td>Sonata Op. 1</td>\n",
              "      <td>train</td>\n",
              "      <td>2018</td>\n",
              "      <td>2018/MIDI-Unprocessed_Chamber3_MID--AUDIO_10_R...</td>\n",
              "      <td>2018/MIDI-Unprocessed_Chamber3_MID--AUDIO_10_R...</td>\n",
              "      <td>698.661160</td>\n",
              "    </tr>\n",
              "    <tr>\n",
              "      <th>1</th>\n",
              "      <td>Alban Berg</td>\n",
              "      <td>Sonata Op. 1</td>\n",
              "      <td>train</td>\n",
              "      <td>2008</td>\n",
              "      <td>2008/MIDI-Unprocessed_03_R2_2008_01-03_ORIG_MI...</td>\n",
              "      <td>2008/MIDI-Unprocessed_03_R2_2008_01-03_ORIG_MI...</td>\n",
              "      <td>759.518471</td>\n",
              "    </tr>\n",
              "    <tr>\n",
              "      <th>2</th>\n",
              "      <td>Alban Berg</td>\n",
              "      <td>Sonata Op. 1</td>\n",
              "      <td>train</td>\n",
              "      <td>2017</td>\n",
              "      <td>2017/MIDI-Unprocessed_066_PIANO066_MID--AUDIO-...</td>\n",
              "      <td>2017/MIDI-Unprocessed_066_PIANO066_MID--AUDIO-...</td>\n",
              "      <td>464.649433</td>\n",
              "    </tr>\n",
              "    <tr>\n",
              "      <th>3</th>\n",
              "      <td>Alexander Scriabin</td>\n",
              "      <td>24 Preludes Op. 11, No. 13-24</td>\n",
              "      <td>train</td>\n",
              "      <td>2004</td>\n",
              "      <td>2004/MIDI-Unprocessed_XP_21_R1_2004_01_ORIG_MI...</td>\n",
              "      <td>2004/MIDI-Unprocessed_XP_21_R1_2004_01_ORIG_MI...</td>\n",
              "      <td>872.640588</td>\n",
              "    </tr>\n",
              "    <tr>\n",
              "      <th>4</th>\n",
              "      <td>Alexander Scriabin</td>\n",
              "      <td>3 Etudes, Op. 65</td>\n",
              "      <td>validation</td>\n",
              "      <td>2006</td>\n",
              "      <td>2006/MIDI-Unprocessed_17_R1_2006_01-06_ORIG_MI...</td>\n",
              "      <td>2006/MIDI-Unprocessed_17_R1_2006_01-06_ORIG_MI...</td>\n",
              "      <td>397.857508</td>\n",
              "    </tr>\n",
              "    <tr>\n",
              "      <th>...</th>\n",
              "      <td>...</td>\n",
              "      <td>...</td>\n",
              "      <td>...</td>\n",
              "      <td>...</td>\n",
              "      <td>...</td>\n",
              "      <td>...</td>\n",
              "      <td>...</td>\n",
              "    </tr>\n",
              "    <tr>\n",
              "      <th>1271</th>\n",
              "      <td>Wolfgang Amadeus Mozart</td>\n",
              "      <td>Sonata in F Major, K280</td>\n",
              "      <td>test</td>\n",
              "      <td>2004</td>\n",
              "      <td>2004/MIDI-Unprocessed_XP_14_R1_2004_04_ORIG_MI...</td>\n",
              "      <td>2004/MIDI-Unprocessed_XP_14_R1_2004_04_ORIG_MI...</td>\n",
              "      <td>241.470442</td>\n",
              "    </tr>\n",
              "    <tr>\n",
              "      <th>1272</th>\n",
              "      <td>Wolfgang Amadeus Mozart</td>\n",
              "      <td>Sonata in F Major, K280</td>\n",
              "      <td>train</td>\n",
              "      <td>2004</td>\n",
              "      <td>2004/MIDI-Unprocessed_XP_14_R1_2004_04_ORIG_MI...</td>\n",
              "      <td>2004/MIDI-Unprocessed_XP_14_R1_2004_04_ORIG_MI...</td>\n",
              "      <td>114.696243</td>\n",
              "    </tr>\n",
              "    <tr>\n",
              "      <th>1273</th>\n",
              "      <td>Wolfgang Amadeus Mozart</td>\n",
              "      <td>Sonata in F Major, K533</td>\n",
              "      <td>validation</td>\n",
              "      <td>2004</td>\n",
              "      <td>2004/MIDI-Unprocessed_SMF_12_01_2004_01-05_ORI...</td>\n",
              "      <td>2004/MIDI-Unprocessed_SMF_12_01_2004_01-05_ORI...</td>\n",
              "      <td>1139.198478</td>\n",
              "    </tr>\n",
              "    <tr>\n",
              "      <th>1274</th>\n",
              "      <td>Wolfgang Amadeus Mozart</td>\n",
              "      <td>Sonata in F Major, K533/K494</td>\n",
              "      <td>validation</td>\n",
              "      <td>2018</td>\n",
              "      <td>2018/MIDI-Unprocessed_Recital17-19_MID--AUDIO_...</td>\n",
              "      <td>2018/MIDI-Unprocessed_Recital17-19_MID--AUDIO_...</td>\n",
              "      <td>1068.751602</td>\n",
              "    </tr>\n",
              "    <tr>\n",
              "      <th>1275</th>\n",
              "      <td>Wolfgang Amadeus Mozart</td>\n",
              "      <td>Twelve Variations, K179 (189a)</td>\n",
              "      <td>train</td>\n",
              "      <td>2004</td>\n",
              "      <td>2004/MIDI-Unprocessed_XP_04_R1_2004_01-02_ORIG...</td>\n",
              "      <td>2004/MIDI-Unprocessed_XP_04_R1_2004_01-02_ORIG...</td>\n",
              "      <td>630.266303</td>\n",
              "    </tr>\n",
              "  </tbody>\n",
              "</table>\n",
              "<p>1276 rows × 7 columns</p>\n",
              "</div>\n",
              "      <button class=\"colab-df-convert\" onclick=\"convertToInteractive('df-475dcfd8-fb10-47b8-aeb4-5d4cfd0599f9')\"\n",
              "              title=\"Convert this dataframe to an interactive table.\"\n",
              "              style=\"display:none;\">\n",
              "        \n",
              "  <svg xmlns=\"http://www.w3.org/2000/svg\" height=\"24px\"viewBox=\"0 0 24 24\"\n",
              "       width=\"24px\">\n",
              "    <path d=\"M0 0h24v24H0V0z\" fill=\"none\"/>\n",
              "    <path d=\"M18.56 5.44l.94 2.06.94-2.06 2.06-.94-2.06-.94-.94-2.06-.94 2.06-2.06.94zm-11 1L8.5 8.5l.94-2.06 2.06-.94-2.06-.94L8.5 2.5l-.94 2.06-2.06.94zm10 10l.94 2.06.94-2.06 2.06-.94-2.06-.94-.94-2.06-.94 2.06-2.06.94z\"/><path d=\"M17.41 7.96l-1.37-1.37c-.4-.4-.92-.59-1.43-.59-.52 0-1.04.2-1.43.59L10.3 9.45l-7.72 7.72c-.78.78-.78 2.05 0 2.83L4 21.41c.39.39.9.59 1.41.59.51 0 1.02-.2 1.41-.59l7.78-7.78 2.81-2.81c.8-.78.8-2.07 0-2.86zM5.41 20L4 18.59l7.72-7.72 1.47 1.35L5.41 20z\"/>\n",
              "  </svg>\n",
              "      </button>\n",
              "      \n",
              "  <style>\n",
              "    .colab-df-container {\n",
              "      display:flex;\n",
              "      flex-wrap:wrap;\n",
              "      gap: 12px;\n",
              "    }\n",
              "\n",
              "    .colab-df-convert {\n",
              "      background-color: #E8F0FE;\n",
              "      border: none;\n",
              "      border-radius: 50%;\n",
              "      cursor: pointer;\n",
              "      display: none;\n",
              "      fill: #1967D2;\n",
              "      height: 32px;\n",
              "      padding: 0 0 0 0;\n",
              "      width: 32px;\n",
              "    }\n",
              "\n",
              "    .colab-df-convert:hover {\n",
              "      background-color: #E2EBFA;\n",
              "      box-shadow: 0px 1px 2px rgba(60, 64, 67, 0.3), 0px 1px 3px 1px rgba(60, 64, 67, 0.15);\n",
              "      fill: #174EA6;\n",
              "    }\n",
              "\n",
              "    [theme=dark] .colab-df-convert {\n",
              "      background-color: #3B4455;\n",
              "      fill: #D2E3FC;\n",
              "    }\n",
              "\n",
              "    [theme=dark] .colab-df-convert:hover {\n",
              "      background-color: #434B5C;\n",
              "      box-shadow: 0px 1px 3px 1px rgba(0, 0, 0, 0.15);\n",
              "      filter: drop-shadow(0px 1px 2px rgba(0, 0, 0, 0.3));\n",
              "      fill: #FFFFFF;\n",
              "    }\n",
              "  </style>\n",
              "\n",
              "      <script>\n",
              "        const buttonEl =\n",
              "          document.querySelector('#df-475dcfd8-fb10-47b8-aeb4-5d4cfd0599f9 button.colab-df-convert');\n",
              "        buttonEl.style.display =\n",
              "          google.colab.kernel.accessAllowed ? 'block' : 'none';\n",
              "\n",
              "        async function convertToInteractive(key) {\n",
              "          const element = document.querySelector('#df-475dcfd8-fb10-47b8-aeb4-5d4cfd0599f9');\n",
              "          const dataTable =\n",
              "            await google.colab.kernel.invokeFunction('convertToInteractive',\n",
              "                                                     [key], {});\n",
              "          if (!dataTable) return;\n",
              "\n",
              "          const docLinkHtml = 'Like what you see? Visit the ' +\n",
              "            '<a target=\"_blank\" href=https://colab.research.google.com/notebooks/data_table.ipynb>data table notebook</a>'\n",
              "            + ' to learn more about interactive tables.';\n",
              "          element.innerHTML = '';\n",
              "          dataTable['output_type'] = 'display_data';\n",
              "          await google.colab.output.renderOutput(dataTable, element);\n",
              "          const docLink = document.createElement('div');\n",
              "          docLink.innerHTML = docLinkHtml;\n",
              "          element.appendChild(docLink);\n",
              "        }\n",
              "      </script>\n",
              "    </div>\n",
              "  </div>\n",
              "  "
            ]
          },
          "metadata": {},
          "execution_count": 20
        }
      ]
    },
    {
      "cell_type": "code",
      "source": [
        "meta_data_df.groupby(\"canonical_title\").size()"
      ],
      "metadata": {
        "colab": {
          "base_uri": "https://localhost:8080/"
        },
        "id": "lohBzPn69KiZ",
        "outputId": "7a54004b-70f7-49d6-cd0b-b15739a789a8"
      },
      "execution_count": 25,
      "outputs": [
        {
          "output_type": "execute_result",
          "data": {
            "text/plain": [
              "canonical_title\n",
              "\"Der Mueller und der Bach\"                                           1\n",
              "\"Erlkoenig\"                                                          1\n",
              "\"Feux d'artifice\" from Book II                                       1\n",
              "\"Gretchen am Spinnrade\"                                              1\n",
              "\"Images\", Series I                                                   1\n",
              "                                                                    ..\n",
              "Widmung                                                              1\n",
              "Études d'exécution transcendante, No. 10 in F Minor, S.139/10        1\n",
              "Études d'exécution transcendante, No. 12, \"Chasse-Neige\" S.139/12    1\n",
              "Études d'exécution transcendante, No. 4, \"Mazeppa\" S.139/4           2\n",
              "Études d'exécution transcendante, No. 5, \"Feux follets\" S.139/5      1\n",
              "Length: 854, dtype: int64"
            ]
          },
          "metadata": {},
          "execution_count": 25
        }
      ]
    },
    {
      "cell_type": "code",
      "source": [
        "sns.distplot(meta_data_df.groupby(\"canonical_title\").size())"
      ],
      "metadata": {
        "colab": {
          "base_uri": "https://localhost:8080/",
          "height": 337
        },
        "id": "JuVK13cheNse",
        "outputId": "290e2a23-bf68-4399-b8c4-9e7dfedfef56"
      },
      "execution_count": 26,
      "outputs": [
        {
          "output_type": "stream",
          "name": "stderr",
          "text": [
            "/usr/local/lib/python3.9/dist-packages/seaborn/distributions.py:2619: FutureWarning: `distplot` is a deprecated function and will be removed in a future version. Please adapt your code to use either `displot` (a figure-level function with similar flexibility) or `histplot` (an axes-level function for histograms).\n",
            "  warnings.warn(msg, FutureWarning)\n"
          ]
        },
        {
          "output_type": "execute_result",
          "data": {
            "text/plain": [
              "<AxesSubplot:ylabel='Density'>"
            ]
          },
          "metadata": {},
          "execution_count": 26
        },
        {
          "output_type": "display_data",
          "data": {
            "text/plain": [
              "<Figure size 432x288 with 1 Axes>"
            ],
            "image/png": "[encoded data removed]"
          },
          "metadata": {
            "needs_background": "light"
          }
        }
      ]
    },
    {
      "cell_type": "code",
      "source": [],
      "metadata": {
        "id": "SGmyNiwne_Nv"
      },
      "execution_count": null,
      "outputs": []
    }
  ]
}